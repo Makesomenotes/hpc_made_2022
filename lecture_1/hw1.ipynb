{
 "cells": [
  {
   "cell_type": "code",
   "execution_count": 14,
   "metadata": {},
   "outputs": [],
   "source": [
    "import datetime\n",
    "import json\n",
    "\n",
    "import pandas as pd\n",
    "import numpy as np\n",
    "from sklearn.linear_model import LinearRegression"
   ]
  },
  {
   "cell_type": "code",
   "execution_count": 2,
   "metadata": {},
   "outputs": [
    {
     "data": {
      "text/html": [
       "<div>\n",
       "<style scoped>\n",
       "    .dataframe tbody tr th:only-of-type {\n",
       "        vertical-align: middle;\n",
       "    }\n",
       "\n",
       "    .dataframe tbody tr th {\n",
       "        vertical-align: top;\n",
       "    }\n",
       "\n",
       "    .dataframe thead th {\n",
       "        text-align: right;\n",
       "    }\n",
       "</style>\n",
       "<table border=\"1\" class=\"dataframe\">\n",
       "  <thead>\n",
       "    <tr style=\"text-align: right;\">\n",
       "      <th></th>\n",
       "      <th>Rank</th>\n",
       "      <th>Previous Rank</th>\n",
       "      <th>First Appearance</th>\n",
       "      <th>First Rank</th>\n",
       "      <th>Name</th>\n",
       "      <th>Computer</th>\n",
       "      <th>Site</th>\n",
       "      <th>Manufacturer</th>\n",
       "      <th>Country</th>\n",
       "      <th>Year</th>\n",
       "      <th>...</th>\n",
       "      <th>Accelerator/Co-Processor</th>\n",
       "      <th>Cores per Socket</th>\n",
       "      <th>Processor Generation</th>\n",
       "      <th>System Model</th>\n",
       "      <th>System Family</th>\n",
       "      <th>Interconnect Family</th>\n",
       "      <th>Interconnect</th>\n",
       "      <th>Continent</th>\n",
       "      <th>Site ID</th>\n",
       "      <th>System ID</th>\n",
       "    </tr>\n",
       "  </thead>\n",
       "  <tbody>\n",
       "    <tr>\n",
       "      <th>0</th>\n",
       "      <td>1</td>\n",
       "      <td>NaN</td>\n",
       "      <td>59</td>\n",
       "      <td>1</td>\n",
       "      <td>Frontier</td>\n",
       "      <td>HPE Cray EX235a, AMD Optimized 3rd Generation ...</td>\n",
       "      <td>DOE/SC/Oak Ridge National Laboratory</td>\n",
       "      <td>HPE</td>\n",
       "      <td>United States</td>\n",
       "      <td>2021</td>\n",
       "      <td>...</td>\n",
       "      <td>AMD Instinct MI250X</td>\n",
       "      <td>64</td>\n",
       "      <td>AMD Milan</td>\n",
       "      <td>HPE Cray EX235a</td>\n",
       "      <td>HPE Cray EX</td>\n",
       "      <td>Gigabit Ethernet</td>\n",
       "      <td>Slingshot-11</td>\n",
       "      <td>North America</td>\n",
       "      <td>48,553</td>\n",
       "      <td>180047</td>\n",
       "    </tr>\n",
       "    <tr>\n",
       "      <th>1</th>\n",
       "      <td>2</td>\n",
       "      <td>1.0</td>\n",
       "      <td>55</td>\n",
       "      <td>1</td>\n",
       "      <td>Supercomputer Fugaku</td>\n",
       "      <td>Supercomputer Fugaku, A64FX 48C 2.2GHz, Tofu i...</td>\n",
       "      <td>RIKEN Center for Computational Science</td>\n",
       "      <td>Fujitsu</td>\n",
       "      <td>Japan</td>\n",
       "      <td>2020</td>\n",
       "      <td>...</td>\n",
       "      <td>None</td>\n",
       "      <td>48</td>\n",
       "      <td>Fujitsu A64FX</td>\n",
       "      <td>Supercomputer Fugaku</td>\n",
       "      <td>Fujitsu Cluster</td>\n",
       "      <td>Proprietary Network</td>\n",
       "      <td>Tofu interconnect D</td>\n",
       "      <td>Asia</td>\n",
       "      <td>50,831</td>\n",
       "      <td>179807</td>\n",
       "    </tr>\n",
       "    <tr>\n",
       "      <th>2</th>\n",
       "      <td>3</td>\n",
       "      <td>NaN</td>\n",
       "      <td>59</td>\n",
       "      <td>3</td>\n",
       "      <td>LUMI</td>\n",
       "      <td>HPE Cray EX235a, AMD Optimized 3rd Generation ...</td>\n",
       "      <td>EuroHPC/CSC</td>\n",
       "      <td>HPE</td>\n",
       "      <td>Finland</td>\n",
       "      <td>2022</td>\n",
       "      <td>...</td>\n",
       "      <td>AMD Instinct MI250X</td>\n",
       "      <td>64</td>\n",
       "      <td>AMD Milan</td>\n",
       "      <td>HPE Cray EX235a</td>\n",
       "      <td>HPE Cray EX</td>\n",
       "      <td>Gigabit Ethernet</td>\n",
       "      <td>Slingshot-11</td>\n",
       "      <td>Europe</td>\n",
       "      <td>50,908</td>\n",
       "      <td>180048</td>\n",
       "    </tr>\n",
       "    <tr>\n",
       "      <th>3</th>\n",
       "      <td>4</td>\n",
       "      <td>2.0</td>\n",
       "      <td>51</td>\n",
       "      <td>1</td>\n",
       "      <td>Summit</td>\n",
       "      <td>IBM Power System AC922, IBM POWER9 22C 3.07GHz...</td>\n",
       "      <td>DOE/SC/Oak Ridge National Laboratory</td>\n",
       "      <td>IBM</td>\n",
       "      <td>United States</td>\n",
       "      <td>2018</td>\n",
       "      <td>...</td>\n",
       "      <td>NVIDIA Volta GV100</td>\n",
       "      <td>22</td>\n",
       "      <td>IBM POWER9</td>\n",
       "      <td>IBM Power System AC922</td>\n",
       "      <td>IBM Power Systems</td>\n",
       "      <td>Infiniband</td>\n",
       "      <td>Dual-rail Mellanox EDR Infiniband</td>\n",
       "      <td>North America</td>\n",
       "      <td>48,553</td>\n",
       "      <td>179397</td>\n",
       "    </tr>\n",
       "    <tr>\n",
       "      <th>4</th>\n",
       "      <td>5</td>\n",
       "      <td>3.0</td>\n",
       "      <td>51</td>\n",
       "      <td>3</td>\n",
       "      <td>Sierra</td>\n",
       "      <td>IBM Power System AC922, IBM POWER9 22C 3.1GHz,...</td>\n",
       "      <td>DOE/NNSA/LLNL</td>\n",
       "      <td>IBM / NVIDIA / Mellanox</td>\n",
       "      <td>United States</td>\n",
       "      <td>2018</td>\n",
       "      <td>...</td>\n",
       "      <td>NVIDIA Volta GV100</td>\n",
       "      <td>22</td>\n",
       "      <td>IBM POWER9</td>\n",
       "      <td>IBM Power System AC922</td>\n",
       "      <td>IBM Power Systems</td>\n",
       "      <td>Infiniband</td>\n",
       "      <td>Dual-rail Mellanox EDR Infiniband</td>\n",
       "      <td>North America</td>\n",
       "      <td>49,763</td>\n",
       "      <td>179398</td>\n",
       "    </tr>\n",
       "  </tbody>\n",
       "</table>\n",
       "<p>5 rows × 38 columns</p>\n",
       "</div>"
      ],
      "text/plain": [
       "   Rank  Previous Rank  First Appearance  First Rank                  Name  \\\n",
       "0     1            NaN                59           1              Frontier   \n",
       "1     2            1.0                55           1  Supercomputer Fugaku   \n",
       "2     3            NaN                59           3                  LUMI   \n",
       "3     4            2.0                51           1                Summit   \n",
       "4     5            3.0                51           3                Sierra   \n",
       "\n",
       "                                            Computer  \\\n",
       "0  HPE Cray EX235a, AMD Optimized 3rd Generation ...   \n",
       "1  Supercomputer Fugaku, A64FX 48C 2.2GHz, Tofu i...   \n",
       "2  HPE Cray EX235a, AMD Optimized 3rd Generation ...   \n",
       "3  IBM Power System AC922, IBM POWER9 22C 3.07GHz...   \n",
       "4  IBM Power System AC922, IBM POWER9 22C 3.1GHz,...   \n",
       "\n",
       "                                     Site             Manufacturer  \\\n",
       "0    DOE/SC/Oak Ridge National Laboratory                      HPE   \n",
       "1  RIKEN Center for Computational Science                  Fujitsu   \n",
       "2                             EuroHPC/CSC                      HPE   \n",
       "3    DOE/SC/Oak Ridge National Laboratory                      IBM   \n",
       "4                           DOE/NNSA/LLNL  IBM / NVIDIA / Mellanox   \n",
       "\n",
       "         Country  Year  ... Accelerator/Co-Processor Cores per Socket  \\\n",
       "0  United States  2021  ...      AMD Instinct MI250X               64   \n",
       "1          Japan  2020  ...                     None               48   \n",
       "2        Finland  2022  ...      AMD Instinct MI250X               64   \n",
       "3  United States  2018  ...       NVIDIA Volta GV100               22   \n",
       "4  United States  2018  ...       NVIDIA Volta GV100               22   \n",
       "\n",
       "  Processor Generation            System Model       System Family  \\\n",
       "0            AMD Milan         HPE Cray EX235a         HPE Cray EX   \n",
       "1        Fujitsu A64FX    Supercomputer Fugaku     Fujitsu Cluster   \n",
       "2            AMD Milan         HPE Cray EX235a         HPE Cray EX   \n",
       "3           IBM POWER9  IBM Power System AC922   IBM Power Systems   \n",
       "4           IBM POWER9  IBM Power System AC922   IBM Power Systems   \n",
       "\n",
       "   Interconnect Family                       Interconnect      Continent  \\\n",
       "0     Gigabit Ethernet                       Slingshot-11  North America   \n",
       "1  Proprietary Network                Tofu interconnect D           Asia   \n",
       "2     Gigabit Ethernet                       Slingshot-11         Europe   \n",
       "3           Infiniband  Dual-rail Mellanox EDR Infiniband  North America   \n",
       "4           Infiniband  Dual-rail Mellanox EDR Infiniband  North America   \n",
       "\n",
       "  Site ID System ID  \n",
       "0  48,553    180047  \n",
       "1  50,831    179807  \n",
       "2  50,908    180048  \n",
       "3  48,553    179397  \n",
       "4  49,763    179398  \n",
       "\n",
       "[5 rows x 38 columns]"
      ]
     },
     "execution_count": 2,
     "metadata": {},
     "output_type": "execute_result"
    }
   ],
   "source": [
    "top_500 = pd.read_csv('TOP500_202206.csv')\n",
    "top_500.head()"
   ]
  },
  {
   "cell_type": "code",
   "execution_count": 7,
   "metadata": {},
   "outputs": [],
   "source": [
    "# top_500.columns\n",
    "# top_500[['Rank', 'Rmax [TFlop/s]']]"
   ]
  },
  {
   "cell_type": "code",
   "execution_count": 10,
   "metadata": {},
   "outputs": [],
   "source": [
    "with open('top500.json', 'r') as f:\n",
    "    history = json.load(f)"
   ]
  },
  {
   "cell_type": "code",
   "execution_count": 24,
   "metadata": {},
   "outputs": [],
   "source": [
    "start_date = datetime.date(1993, 6, 1)"
   ]
  },
  {
   "cell_type": "code",
   "execution_count": 25,
   "metadata": {},
   "outputs": [],
   "source": [
    "history_lst = []\n",
    "for elem in history:\n",
    "    month, year = [int(part) for part in elem.split('/')]\n",
    "    cur_date = datetime.date(year, month, 1)\n",
    "    day_from_start = (cur_date - start_date).days\n",
    "    top1 = int(history[elem]['#1'][0])\n",
    "    res = {'day_from_start': day_from_start, 'top1': top1, 'target': np.log(top1)}\n",
    "    history_lst.append(res)\n"
   ]
  },
  {
   "cell_type": "code",
   "execution_count": 26,
   "metadata": {},
   "outputs": [],
   "source": [
    "history_df = pd.DataFrame(history_lst)"
   ]
  },
  {
   "cell_type": "code",
   "execution_count": 29,
   "metadata": {},
   "outputs": [
    {
     "data": {
      "text/html": [
       "<div>\n",
       "<style scoped>\n",
       "    .dataframe tbody tr th:only-of-type {\n",
       "        vertical-align: middle;\n",
       "    }\n",
       "\n",
       "    .dataframe tbody tr th {\n",
       "        vertical-align: top;\n",
       "    }\n",
       "\n",
       "    .dataframe thead th {\n",
       "        text-align: right;\n",
       "    }\n",
       "</style>\n",
       "<table border=\"1\" class=\"dataframe\">\n",
       "  <thead>\n",
       "    <tr style=\"text-align: right;\">\n",
       "      <th></th>\n",
       "      <th>day_from_start</th>\n",
       "      <th>top1</th>\n",
       "      <th>target</th>\n",
       "    </tr>\n",
       "  </thead>\n",
       "  <tbody>\n",
       "    <tr>\n",
       "      <th>54</th>\n",
       "      <td>9862</td>\n",
       "      <td>415500000</td>\n",
       "      <td>19.844993</td>\n",
       "    </tr>\n",
       "    <tr>\n",
       "      <th>55</th>\n",
       "      <td>10015</td>\n",
       "      <td>442000000</td>\n",
       "      <td>19.906820</td>\n",
       "    </tr>\n",
       "    <tr>\n",
       "      <th>56</th>\n",
       "      <td>10227</td>\n",
       "      <td>442000000</td>\n",
       "      <td>19.906820</td>\n",
       "    </tr>\n",
       "    <tr>\n",
       "      <th>57</th>\n",
       "      <td>10380</td>\n",
       "      <td>442000000</td>\n",
       "      <td>19.906820</td>\n",
       "    </tr>\n",
       "    <tr>\n",
       "      <th>58</th>\n",
       "      <td>10592</td>\n",
       "      <td>1100000000</td>\n",
       "      <td>20.818576</td>\n",
       "    </tr>\n",
       "  </tbody>\n",
       "</table>\n",
       "</div>"
      ],
      "text/plain": [
       "    day_from_start        top1     target\n",
       "54            9862   415500000  19.844993\n",
       "55           10015   442000000  19.906820\n",
       "56           10227   442000000  19.906820\n",
       "57           10380   442000000  19.906820\n",
       "58           10592  1100000000  20.818576"
      ]
     },
     "execution_count": 29,
     "metadata": {},
     "output_type": "execute_result"
    }
   ],
   "source": [
    "history_df.tail()"
   ]
  },
  {
   "cell_type": "code",
   "execution_count": 31,
   "metadata": {},
   "outputs": [
    {
     "data": {
      "text/plain": [
       "LinearRegression()"
      ]
     },
     "execution_count": 31,
     "metadata": {},
     "output_type": "execute_result"
    }
   ],
   "source": [
    "lr = LinearRegression()\n",
    "lr.fit(np.array(history_df['day_from_start']).reshape(-1, 1), history_df['target'])"
   ]
  },
  {
   "cell_type": "code",
   "execution_count": 33,
   "metadata": {},
   "outputs": [
    {
     "data": {
      "text/plain": [
       "array([1.07988915e+10])"
      ]
     },
     "execution_count": 33,
     "metadata": {},
     "output_type": "execute_result"
    }
   ],
   "source": [
    "finish = datetime.date(2025, 5, 1)\n",
    "preds = np.exp(lr.predict(np.array((finish - start_date).days).reshape(-1, 1)))\n",
    "preds"
   ]
  },
  {
   "cell_type": "markdown",
   "metadata": {},
   "source": [
    "Оценка доли затрачиваемой энергии"
   ]
  },
  {
   "cell_type": "code",
   "execution_count": 42,
   "metadata": {},
   "outputs": [
    {
     "data": {
      "text/plain": [
       "0.022994592257692705"
      ]
     },
     "execution_count": 42,
     "metadata": {},
     "output_type": "execute_result"
    }
   ],
   "source": [
    "world_power = 28214.07  # https://ourworldindata.org/grapher/electricity-prod-source-stacked\n",
    "top_500['Power (kW)'] = top_500['Power (kW)'].str.replace(',', '').astype(float)\n",
    "top_500['Power (kW)'] = top_500['Power (kW)'].interpolate()\n",
    "top_500_power = (top_500['Power (kW)'].sum() * 8760) / 1e9\n",
    "top_500_power / world_power * 100\n"
   ]
  },
  {
   "cell_type": "code",
   "execution_count": null,
   "metadata": {},
   "outputs": [],
   "source": []
  }
 ],
 "metadata": {
  "kernelspec": {
   "display_name": "Python 3.9.12 64-bit",
   "language": "python",
   "name": "python3"
  },
  "language_info": {
   "codemirror_mode": {
    "name": "ipython",
    "version": 3
   },
   "file_extension": ".py",
   "mimetype": "text/x-python",
   "name": "python",
   "nbconvert_exporter": "python",
   "pygments_lexer": "ipython3",
   "version": "3.9.12"
  },
  "orig_nbformat": 4,
  "vscode": {
   "interpreter": {
    "hash": "b0fa6594d8f4cbf19f97940f81e996739fb7646882a419484c72d19e05852a7e"
   }
  }
 },
 "nbformat": 4,
 "nbformat_minor": 2
}
