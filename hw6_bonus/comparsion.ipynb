{
 "cells": [
  {
   "cell_type": "code",
   "execution_count": 29,
   "metadata": {},
   "outputs": [],
   "source": [
    "import json\n",
    "import time\n",
    "\n",
    "import matplotlib.pyplot as plt\n",
    "from matplotlib import rc\n",
    "import numpy as np\n",
    "import pandas as pd\n",
    "import pickle\n",
    "import seaborn as sns\n"
   ]
  },
  {
   "cell_type": "code",
   "execution_count": 17,
   "metadata": {},
   "outputs": [],
   "source": [
    "sns.set()"
   ]
  },
  {
   "cell_type": "markdown",
   "metadata": {},
   "source": [
    "Основная работа с функциями и ускорением была произведена в отдельных модулях и там же произведены расчеты, так как не получилось подружить numba и SALib с jupyter окружением."
   ]
  },
  {
   "cell_type": "markdown",
   "metadata": {},
   "source": [
    "# Запуск без ускорения"
   ]
  },
  {
   "cell_type": "markdown",
   "metadata": {},
   "source": [
    "Результаты модуля sobol_analysis для функции multivar_func_classic\n",
    "\n",
    "    Генерация выборки заняло 39.76 секунд\n",
    "\n",
    "    Время выполнения функции 8.42 секунд\n",
    "\n",
    "    Время выполнения анализа Соболева 91.57 секунд  "
   ]
  },
  {
   "cell_type": "code",
   "execution_count": 40,
   "metadata": {},
   "outputs": [
    {
     "data": {
      "text/html": [
       "<div>\n",
       "<style scoped>\n",
       "    .dataframe tbody tr th:only-of-type {\n",
       "        vertical-align: middle;\n",
       "    }\n",
       "\n",
       "    .dataframe tbody tr th {\n",
       "        vertical-align: top;\n",
       "    }\n",
       "\n",
       "    .dataframe thead th {\n",
       "        text-align: right;\n",
       "    }\n",
       "</style>\n",
       "<table border=\"1\" class=\"dataframe\">\n",
       "  <thead>\n",
       "    <tr style=\"text-align: right;\">\n",
       "      <th></th>\n",
       "      <th>Unnamed: 0</th>\n",
       "      <th>ST</th>\n",
       "      <th>ST_conf</th>\n",
       "      <th>S1</th>\n",
       "      <th>S1_conf</th>\n",
       "    </tr>\n",
       "  </thead>\n",
       "  <tbody>\n",
       "    <tr>\n",
       "      <th>0</th>\n",
       "      <td>first</td>\n",
       "      <td>7.385706e-01</td>\n",
       "      <td>8.692341e-01</td>\n",
       "      <td>-2.219740e-04</td>\n",
       "      <td>9.801772e-02</td>\n",
       "    </tr>\n",
       "    <tr>\n",
       "      <th>1</th>\n",
       "      <td>second</td>\n",
       "      <td>1.478645e-08</td>\n",
       "      <td>2.262197e-08</td>\n",
       "      <td>9.456247e-08</td>\n",
       "      <td>2.687311e-07</td>\n",
       "    </tr>\n",
       "    <tr>\n",
       "      <th>2</th>\n",
       "      <td>third</td>\n",
       "      <td>1.248495e+00</td>\n",
       "      <td>2.002727e+00</td>\n",
       "      <td>-4.727539e-05</td>\n",
       "      <td>2.578538e-04</td>\n",
       "    </tr>\n",
       "  </tbody>\n",
       "</table>\n",
       "</div>"
      ],
      "text/plain": [
       "  Unnamed: 0            ST       ST_conf            S1       S1_conf\n",
       "0      first  7.385706e-01  8.692341e-01 -2.219740e-04  9.801772e-02\n",
       "1     second  1.478645e-08  2.262197e-08  9.456247e-08  2.687311e-07\n",
       "2      third  1.248495e+00  2.002727e+00 -4.727539e-05  2.578538e-04"
      ]
     },
     "execution_count": 40,
     "metadata": {},
     "output_type": "execute_result"
    }
   ],
   "source": [
    "Si_df = pd.read_csv('./result_dump/basic_result.csv')\n",
    "Si_df"
   ]
  },
  {
   "cell_type": "code",
   "execution_count": 41,
   "metadata": {},
   "outputs": [
    {
     "name": "stderr",
     "output_type": "stream",
     "text": [
      "/var/folders/58/stmjh7594pz97tw2s0r0kfkw0000gn/T/ipykernel_12584/1075416516.py:4: SettingWithCopyWarning: \n",
      "A value is trying to be set on a copy of a slice from a DataFrame\n",
      "\n",
      "See the caveats in the documentation: https://pandas.pydata.org/pandas-docs/stable/user_guide/indexing.html#returning-a-view-versus-a-copy\n",
      "  indices.rename(columns={'Unnamed: 0': 'name'}, inplace=True)\n"
     ]
    },
    {
     "data": {
      "image/png": "[encoded data removed]",
      "text/plain": [
       "<Figure size 576x288 with 1 Axes>"
      ]
     },
     "metadata": {},
     "output_type": "display_data"
    }
   ],
   "source": [
    "fig, ax = plt.subplots(1)\n",
    "\n",
    "indices = Si_df[['Unnamed: 0', 'S1','ST']]\n",
    "indices.rename(columns={'Unnamed: 0': 'name'}, inplace=True)\n",
    "indices.set_index('name', inplace=True)\n",
    "err = Si_df[['S1_conf','ST_conf']]\n",
    "\n",
    "indices.plot.bar(yerr=err.values.T,ax=ax)\n",
    "fig.set_size_inches(8,4)\n",
    "\n",
    "plt.show()"
   ]
  },
  {
   "cell_type": "markdown",
   "metadata": {},
   "source": [
    "# Ускорение с использованием numba"
   ]
  },
  {
   "cell_type": "markdown",
   "metadata": {},
   "source": [
    "Результаты модуля sobol_analysis для функции multivar_func_numba\n",
    "\n",
    "    Генерация выборки заняло 40.38 секунд\n",
    "\n",
    "    Время выполнения функции 3.82 секунд\n",
    "\n",
    "    Время выполнения анализа Соболева 82.99 секунд\n",
    "\n",
    "\n",
    "Ускорили время выполнения в 2.5 раза примерно\n"
   ]
  },
  {
   "cell_type": "markdown",
   "metadata": {},
   "source": [
    "# Добавление параллелилиризма"
   ]
  },
  {
   "cell_type": "markdown",
   "metadata": {},
   "source": [
    "Запуск с флагом parallel_SA=True у функции sobol.analyze привел к улучшению результата, даже наоборот.\n",
    "\n",
    "    Генерация выборки заняло 40.45 секунд\n",
    "\n",
    "    Время выполнения функции 8.54 секунд\n",
    "\n",
    "    Время выполнения анализа Соболева 281.28 секунд\n",
    "\n",
    "\n",
    "Аналогично использование prange для попытке распараллелить цикл в модуле parallel_sobol_analysis тоже не привело к ускорению\n",
    "\n",
    "    Время выполнения функции 8.72 секунд\n",
    "\n",
    "Может быть не правильно запускал что-то, декоратор @numba.njit с параметрами parallel=True не завелся :("
   ]
  },
  {
   "cell_type": "markdown",
   "metadata": {},
   "source": []
  }
 ],
 "metadata": {
  "kernelspec": {
   "display_name": "Python 3.9.15 64-bit",
   "language": "python",
   "name": "python3"
  },
  "language_info": {
   "codemirror_mode": {
    "name": "ipython",
    "version": 3
   },
   "file_extension": ".py",
   "mimetype": "text/x-python",
   "name": "python",
   "nbconvert_exporter": "python",
   "pygments_lexer": "ipython3",
   "version": "3.9.15"
  },
  "orig_nbformat": 4,
  "vscode": {
   "interpreter": {
    "hash": "a665b5d41d17b532ea9890333293a1b812fa0b73c9c25c950b3cedf1bebd0438"
   }
  }
 },
 "nbformat": 4,
 "nbformat_minor": 2
}
